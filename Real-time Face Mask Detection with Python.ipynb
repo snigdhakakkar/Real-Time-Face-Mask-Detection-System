{
 "cells": [
  {
   "cell_type": "markdown",
   "id": "21bd5415",
   "metadata": {},
   "source": [
    "#### Problem statement: \n",
    "\n",
    "During these COVID times, indoor places, such as banks, restaurants and stores are legally mandated to ensure that visitors wear masks for their own safety and stop the spread of virus. But the purpose of wearking masks gets defeated when there is a person meeting everyone to see if they are wearing masks. In such a scenario, a real-time face mask detection system comes in picture. It is not a new concept in machine learning. Computer vision has been used in image recognition and face detection systems. A common example is face detection in phone unlocking mechanisms. \n",
    "\n",
    "The goal of this face mask detection system is to create an image recognition system which understands how image classification works, and it should work with great accuracy so that our model can be applied in the realtime situations. It will work by recognizing the boundaries of the face and predicting whether or not you are wearing a face mask in real-time. We would utilize VideoCapture function in the OpenCV library in Python. The Cascade classifier, designed by OpenCV, can be used to detect the frontal face in live video via detectMultiScale. We will use a while loop to continue capturing images from the webcam.\n",
    "\n",
    "Based on the performance and accuracy of our model, the result of the binary classifier will be indicated by showing a green rectangle superimposed around the section of the face indicating that the person at the camera is wearing a mask, or a red rectangle indicating that the person on camera is not wearing a mask.\n",
    "\n",
    "Let us build our model based on the above steps:"
   ]
  },
  {
   "cell_type": "markdown",
   "id": "655c75a7",
   "metadata": {},
   "source": [
    "### Libraries"
   ]
  },
  {
   "cell_type": "code",
   "execution_count": 1,
   "id": "e5074bac",
   "metadata": {},
   "outputs": [],
   "source": [
    "from tensorflow.keras.models import Sequential\n",
    "from tensorflow.keras.layers import Conv2D, MaxPooling2D, Flatten, Dropout, Dense"
   ]
  },
  {
   "cell_type": "code",
   "execution_count": 2,
   "id": "64a7bcee",
   "metadata": {},
   "outputs": [],
   "source": [
    "#Have used 3 dense layers with 50, 35 and 2 neurons respectively. \n",
    "#The dense network produces the probability of the binary classification of no mask = 1 and mask = 0\n",
    "\n",
    "cnn = Sequential([Conv2D(filters=100, kernel_size=(3,3), \n",
    "                    activation='relu'),\n",
    "                    MaxPooling2D(pool_size=(2,2)),\n",
    "                    Conv2D(filters=100, kernel_size=(3,3), \n",
    "                    activation='relu'),\n",
    "                    MaxPooling2D(pool_size=(2,2)),\n",
    "                    Flatten(),\n",
    "                    Dropout(0.5),\n",
    "                    Dense(50),\n",
    "                    Dense(35),\n",
    "                    Dense(2)])\n",
    "\n",
    "cnn.compile(optimizer='adam', loss='binary_crossentropy', metrics=['acc'])"
   ]
  },
  {
   "cell_type": "code",
   "execution_count": 3,
   "id": "0aaf0f6f",
   "metadata": {},
   "outputs": [],
   "source": [
    "import numpy as np"
   ]
  },
  {
   "cell_type": "code",
   "execution_count": 4,
   "id": "ce351137",
   "metadata": {},
   "outputs": [],
   "source": [
    "import cv2 as cv"
   ]
  },
  {
   "cell_type": "code",
   "execution_count": 5,
   "id": "2930a371",
   "metadata": {},
   "outputs": [
    {
     "name": "stderr",
     "output_type": "stream",
     "text": [
      "2022-04-22 11:14:51.710 python[10326:1982519] mac-virtualcam(DAL): PlugInMain version=1.3.0\n",
      "2022-04-22 11:14:51.710 python[10326:1982519] mac-virtualcam(DAL): HardwarePlugIn_QueryInterface \n",
      "2022-04-22 11:14:51.710 python[10326:1982519] mac-virtualcam(DAL): HardwarePlugIn_Release sRefCount now = 0\n",
      "2022-04-22 11:14:51.710 python[10326:1982519] mac-virtualcam(DAL): HardwarePlugIn_InitializeWithObjectID self=0x142e49478\n",
      "2022-04-22 11:14:51.711 python[10326:1982519] mac-virtualcam(DAL): HardwarePlugIn_ObjectSetPropertyData OBSDALDevice(33) kCMIOObjectPropertyListenerAdded self=0x142e49478 data(int)=1684629094\n",
      "2022-04-22 11:14:51.711 python[10326:1982519] mac-virtualcam(DAL): HardwarePlugIn_ObjectSetPropertyData OBSDALDevice(33) kCMIOObjectPropertyListenerAdded self=0x142e49478 data(int)=1869180523\n",
      "2022-04-22 11:14:51.711 python[10326:1982519] mac-virtualcam(DAL): HardwarePlugIn_ObjectSetPropertyData OBSDALDevice(33) kCMIOObjectPropertyListenerAdded self=0x142e49478 data(int)=1885762592\n",
      "2022-04-22 11:14:51.726 python[10326:1982519] mac-virtualcam(DAL): HardwarePlugIn_ObjectSetPropertyData OBSDALDevice(33) kCMIOObjectPropertyListenerAdded self=0x142e49478 data(int)=1818850926\n",
      "2022-04-22 11:14:51.726 python[10326:1982519] mac-virtualcam(DAL): HardwarePlugIn_ObjectSetPropertyData OBSDALDevice(33) kCMIOObjectPropertyListenerAdded self=0x142e49478 data(int)=1869180523\n",
      "2022-04-22 11:14:51.726 python[10326:1982519] mac-virtualcam(DAL): HardwarePlugIn_ObjectSetPropertyData OBSDALDevice(33) kCMIOObjectPropertyListenerAdded self=0x142e49478 data(int)=1937009955\n",
      "2022-04-22 11:14:51.726 python[10326:1982519] mac-virtualcam(DAL): HardwarePlugIn_ObjectSetPropertyData OBSDALDevice(33) kCMIOObjectPropertyListenerAdded self=0x142e49478 data(int)=1886156132\n",
      "2022-04-22 11:14:51.726 python[10326:1982519] mac-virtualcam(DAL): HardwarePlugIn_ObjectSetPropertyData OBSDALDevice(33) kCMIOObjectPropertyListenerAdded self=0x142e49478 data(int)=1935833461\n",
      "2022-04-22 11:14:51.726 python[10326:1982519] mac-virtualcam(DAL): HardwarePlugIn_ObjectSetPropertyData OBSDALStream(34) kCMIOObjectPropertyListenerAdded self=0x142e49478 data(int)=1885762592\n"
     ]
    }
   ],
   "source": [
    "labels_dict={0:'No mask',1:'Mask'}\n",
    "color_dict={0:(0,0,255),1:(0,255,0)}\n",
    "imgsize = 4 #set image resize\n",
    "camera = cv.VideoCapture(0) # Turn on camera\n",
    "# Identify frontal face\n",
    "classifier = cv.CascadeClassifier(cv.data.haarcascades + 'haarcascade_frontalface_default.xml')"
   ]
  },
  {
   "cell_type": "code",
   "execution_count": null,
   "id": "6024950e",
   "metadata": {},
   "outputs": [
    {
     "name": "stderr",
     "output_type": "stream",
     "text": [
      "2022-04-22 11:14:54.160344: I tensorflow/core/platform/cpu_feature_guard.cc:145] This TensorFlow binary is optimized with Intel(R) MKL-DNN to use the following CPU instructions in performance critical operations:  SSE4.1 SSE4.2 AVX AVX2 FMA\n",
      "To enable them in non-MKL-DNN operations, rebuild TensorFlow with the appropriate compiler flags.\n",
      "2022-04-22 11:14:54.160785: I tensorflow/core/common_runtime/process_util.cc:115] Creating new thread pool with default inter op setting: 4. Tune using inter_op_parallelism_threads for best performance.\n"
     ]
    }
   ],
   "source": [
    "while True:\n",
    "    (rval, im) = camera.read()\n",
    "    im=cv.flip(im,1,1) #mirrow the image\n",
    "    imgs = cv.resize(im, (im.shape[1] // imgsize, im.shape[0] //\n",
    "    imgsize))\n",
    "    face_rec = classifier.detectMultiScale(imgs) \n",
    "    for i in face_rec: # Overlay rectangle on face\n",
    "        (x, y, l, w) = [v * imgsize for v in i] \n",
    "        face_img = im[y:y+w, x:x+l]\n",
    "        resized=cv.resize(face_img,(150,150))\n",
    "        normalized=resized/255.0\n",
    "        reshaped=np.reshape(normalized,(1,150,150,3))\n",
    "        reshaped = np.vstack([reshaped])\n",
    "        result=cnn.predict(reshaped)\n",
    "        label=np.argmax(result,axis=1)[0]\n",
    "        cv.rectangle(im,(x,y),(x+l,y+w),color_dict[label],2)\n",
    "        cv.rectangle(im,(x,y-40),(x+l,y),color_dict[label],-1)\n",
    "        cv.putText(im, labels_dict[label], (x, y-\n",
    "        10),cv.FONT_HERSHEY_SIMPLEX,0.8,(255,255,255),2)\n",
    "    cv.imshow('LIVE',im)\n",
    "    key = cv.waitKey(10)\n",
    "    # stop loop by ESC\n",
    "    if key == 27: # The Esc key\n",
    "        break\n",
    "camera.release()\n",
    "cv.destroyAllWindows()"
   ]
  },
  {
   "cell_type": "code",
   "execution_count": null,
   "id": "16715930",
   "metadata": {},
   "outputs": [],
   "source": []
  }
 ],
 "metadata": {
  "kernelspec": {
   "display_name": "Python 3 (ipykernel)",
   "language": "python",
   "name": "python3"
  },
  "language_info": {
   "codemirror_mode": {
    "name": "ipython",
    "version": 3
   },
   "file_extension": ".py",
   "mimetype": "text/x-python",
   "name": "python",
   "nbconvert_exporter": "python",
   "pygments_lexer": "ipython3",
   "version": "3.7.10"
  }
 },
 "nbformat": 4,
 "nbformat_minor": 5
}
